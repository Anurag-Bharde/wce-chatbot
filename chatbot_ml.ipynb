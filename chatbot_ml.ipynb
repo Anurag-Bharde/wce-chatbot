{
  "cells": [
    {
      "cell_type": "code",
      "execution_count": 5,
      "metadata": {
        "id": "coyJ2CY9nybR"
      },
      "outputs": [],
      "source": [
        "import nltk\n",
        "import numpy as np\n",
        "import random\n",
        "import string\n"
      ]
    },
    {
      "cell_type": "code",
      "execution_count": 6,
      "metadata": {
        "id": "5xsHzAzBolbj"
      },
      "outputs": [],
      "source": [
        "FILE_PATH = 'All_Info.txt'\n",
        "\n",
        "f = open(FILE_PATH, 'r', errors='ignore')\n",
        "raw = f.read()\n",
        "raw = raw.lower()"
      ]
    },
    {
      "cell_type": "code",
      "execution_count": 7,
      "metadata": {
        "colab": {
          "base_uri": "https://localhost:8080/"
        },
        "id": "vsDLGHHLoyn_",
        "outputId": "37868f64-5b5b-45da-90f3-bc3b3328b90d"
      },
      "outputs": [
        {
          "name": "stderr",
          "output_type": "stream",
          "text": [
            "[nltk_data] Downloading package punkt to\n",
            "[nltk_data]     C:\\Users\\shikh\\AppData\\Roaming\\nltk_data...\n",
            "[nltk_data]   Package punkt is already up-to-date!\n",
            "[nltk_data] Downloading package wordnet to\n",
            "[nltk_data]     C:\\Users\\shikh\\AppData\\Roaming\\nltk_data...\n",
            "[nltk_data]   Package wordnet is already up-to-date!\n"
          ]
        },
        {
          "data": {
            "text/plain": [
              "[['categories:\\n- generalinfo.',\n",
              "  '- our institution name is walchand college of engineering,sangli.'],\n",
              " ['categories', ':']]"
            ]
          },
          "execution_count": 7,
          "metadata": {},
          "output_type": "execute_result"
        }
      ],
      "source": [
        "nltk.download('punkt')\n",
        "nltk.download('wordnet')\n",
        "\n",
        "sentence_tokens = nltk.sent_tokenize(raw)\n",
        "word_tokens = nltk.word_tokenize(raw)\n",
        "\n",
        "[sentence_tokens[:2], word_tokens[:2]]"
      ]
    },
    {
      "cell_type": "code",
      "execution_count": 8,
      "metadata": {
        "id": "bTBFD5hRo2iR"
      },
      "outputs": [],
      "source": [
        "lemmer = nltk.stem.WordNetLemmatizer()\n",
        "\n",
        "remove_punct_dict = dict((ord(punct), None) for punct in string.punctuation)\n",
        "\n",
        "def lem_tokens(tokens):\n",
        "    return [lemmer.lemmatize(token) for token in tokens]\n",
        "\n",
        "def lem_normalize(text):\n",
        "    return lem_tokens(nltk.word_tokenize(text.lower().translate(remove_punct_dict)))"
      ]
    },
    {
      "cell_type": "code",
      "execution_count": 9,
      "metadata": {
        "id": "PeY32ph0o58n"
      },
      "outputs": [],
      "source": [
        "GREETING_INPUTS = ('hello', 'hi', 'greetings', 'sup', 'what\\'s up', 'hey',)\n",
        "GREETING_RESPONSES = ['hi', 'hey', '*nods*', 'hi there', 'hello', 'I am glad! You are talking to me']\n",
        "\n",
        "def greeting(sentence):\n",
        "    for word in sentence.split():\n",
        "        if word.lower() in GREETING_INPUTS:\n",
        "            return random.choice(GREETING_RESPONSES)"
      ]
    },
    {
      "cell_type": "code",
      "execution_count": 10,
      "metadata": {
        "id": "mMjRxBWHpBa5"
      },
      "outputs": [],
      "source": [
        "from sklearn.feature_extraction.text import TfidfVectorizer\n",
        "from sklearn.metrics.pairwise import cosine_similarity\n",
        "\n",
        "\n",
        "def response(user_response):\n",
        "    robo_response = ''\n",
        "    sentence_tokens.append(user_response)\n",
        "    \n",
        "    vectorizer = TfidfVectorizer(tokenizer=lem_normalize, stop_words='english')\n",
        "    tfidf = vectorizer.fit_transform(sentence_tokens)\n",
        "    \n",
        "    values = cosine_similarity(tfidf[-1], tfidf)\n",
        "    idx = values.argsort()[0][-2]\n",
        "    flat = values.flatten()\n",
        "    flat.sort()\n",
        "    req_tfidf = flat[-2]\n",
        "    \n",
        "    if req_tfidf == 0:\n",
        "        robo_response = '{} Sorry, I don\\'t understand you'.format(robo_response)\n",
        "    else:\n",
        "        robo_response = robo_response + sentence_tokens[idx]\n",
        "    return robo_response\n"
      ]
    },
    {
      "cell_type": "code",
      "execution_count": 11,
      "metadata": {
        "colab": {
          "background_save": true,
          "base_uri": "https://localhost:8080/"
        },
        "id": "oHJTAf32phaR",
        "outputId": "51ca7907-0312-441b-e37c-ca6753287aa0"
      },
      "outputs": [
        {
          "name": "stdout",
          "output_type": "stream",
          "text": [
            "BOT: My name is Robo, I will answer your questions about chatbots. If you want to exit, type Bye\n",
            "ROBO: hey\n"
          ]
        },
        {
          "name": "stderr",
          "output_type": "stream",
          "text": [
            "c:\\Users\\shikh\\AppData\\Local\\Programs\\Python\\Python311\\Lib\\site-packages\\sklearn\\feature_extraction\\text.py:528: UserWarning: The parameter 'token_pattern' will not be used since 'tokenizer' is not None'\n",
            "  warnings.warn(\n",
            "c:\\Users\\shikh\\AppData\\Local\\Programs\\Python\\Python311\\Lib\\site-packages\\sklearn\\feature_extraction\\text.py:409: UserWarning: Your stop_words may be inconsistent with your preprocessing. Tokenizing the stop words generated tokens ['ha', 'le', 'u', 'wa'] not in stop_words.\n",
            "  warnings.warn(\n"
          ]
        },
        {
          "name": "stdout",
          "output_type": "stream",
          "text": [
            "- book bank facility\n",
            "library issue 1200 to 1300 book sets under book bank schemes\n",
            "free book bank scheme is available for students & books of book banks can borrow according to the merit of the students.\n"
          ]
        },
        {
          "name": "stderr",
          "output_type": "stream",
          "text": [
            "c:\\Users\\shikh\\AppData\\Local\\Programs\\Python\\Python311\\Lib\\site-packages\\sklearn\\feature_extraction\\text.py:528: UserWarning: The parameter 'token_pattern' will not be used since 'tokenizer' is not None'\n",
            "  warnings.warn(\n",
            "c:\\Users\\shikh\\AppData\\Local\\Programs\\Python\\Python311\\Lib\\site-packages\\sklearn\\feature_extraction\\text.py:409: UserWarning: Your stop_words may be inconsistent with your preprocessing. Tokenizing the stop words generated tokens ['ha', 'le', 'u', 'wa'] not in stop_words.\n",
            "  warnings.warn(\n"
          ]
        },
        {
          "name": "stdout",
          "output_type": "stream",
          "text": [
            "- to know about course content for sy it, visit following link \"http://www.walchandsangli.ac.in/documents/academics/2223/ug%20cc/sy_btech_it_syllabus_2022-23.pdf   \".\n"
          ]
        },
        {
          "name": "stderr",
          "output_type": "stream",
          "text": [
            "c:\\Users\\shikh\\AppData\\Local\\Programs\\Python\\Python311\\Lib\\site-packages\\sklearn\\feature_extraction\\text.py:528: UserWarning: The parameter 'token_pattern' will not be used since 'tokenizer' is not None'\n",
            "  warnings.warn(\n",
            "c:\\Users\\shikh\\AppData\\Local\\Programs\\Python\\Python311\\Lib\\site-packages\\sklearn\\feature_extraction\\text.py:409: UserWarning: Your stop_words may be inconsistent with your preprocessing. Tokenizing the stop words generated tokens ['ha', 'le', 'u', 'wa'] not in stop_words.\n",
            "  warnings.warn(\n"
          ]
        },
        {
          "name": "stdout",
          "output_type": "stream",
          "text": [
            "- to know about credit system for ty it, visit following link \"http://www.walchandsangli.ac.in/documents/academics/2223/ug%20cs/information%20technology_credit_system_sem-5-6_2022-23.pdf   \".\n"
          ]
        },
        {
          "name": "stderr",
          "output_type": "stream",
          "text": [
            "c:\\Users\\shikh\\AppData\\Local\\Programs\\Python\\Python311\\Lib\\site-packages\\sklearn\\feature_extraction\\text.py:528: UserWarning: The parameter 'token_pattern' will not be used since 'tokenizer' is not None'\n",
            "  warnings.warn(\n",
            "c:\\Users\\shikh\\AppData\\Local\\Programs\\Python\\Python311\\Lib\\site-packages\\sklearn\\feature_extraction\\text.py:409: UserWarning: Your stop_words may be inconsistent with your preprocessing. Tokenizing the stop words generated tokens ['ha', 'le', 'u', 'wa'] not in stop_words.\n",
            "  warnings.warn(\n"
          ]
        },
        {
          "name": "stdout",
          "output_type": "stream",
          "text": [
            " Sorry, I don't understand you\n"
          ]
        },
        {
          "name": "stderr",
          "output_type": "stream",
          "text": [
            "c:\\Users\\shikh\\AppData\\Local\\Programs\\Python\\Python311\\Lib\\site-packages\\sklearn\\feature_extraction\\text.py:528: UserWarning: The parameter 'token_pattern' will not be used since 'tokenizer' is not None'\n",
            "  warnings.warn(\n",
            "c:\\Users\\shikh\\AppData\\Local\\Programs\\Python\\Python311\\Lib\\site-packages\\sklearn\\feature_extraction\\text.py:409: UserWarning: Your stop_words may be inconsistent with your preprocessing. Tokenizing the stop words generated tokens ['ha', 'le', 'u', 'wa'] not in stop_words.\n",
            "  warnings.warn(\n"
          ]
        },
        {
          "name": "stdout",
          "output_type": "stream",
          "text": [
            " Sorry, I don't understand you\n"
          ]
        },
        {
          "name": "stderr",
          "output_type": "stream",
          "text": [
            "c:\\Users\\shikh\\AppData\\Local\\Programs\\Python\\Python311\\Lib\\site-packages\\sklearn\\feature_extraction\\text.py:528: UserWarning: The parameter 'token_pattern' will not be used since 'tokenizer' is not None'\n",
            "  warnings.warn(\n",
            "c:\\Users\\shikh\\AppData\\Local\\Programs\\Python\\Python311\\Lib\\site-packages\\sklearn\\feature_extraction\\text.py:409: UserWarning: Your stop_words may be inconsistent with your preprocessing. Tokenizing the stop words generated tokens ['ha', 'le', 'u', 'wa'] not in stop_words.\n",
            "  warnings.warn(\n"
          ]
        },
        {
          "name": "stdout",
          "output_type": "stream",
          "text": [
            " Sorry, I don't understand you\n",
            "ROBO: bye!\n"
          ]
        }
      ],
      "source": [
        "from gtts import gTTS\n",
        "import os\n",
        "import re\n",
        "from IPython.display import Audio\n",
        "from pydub import AudioSegment\n",
        "from pydub.playback import play\n",
        "flag = True\n",
        "print('BOT: My name is Robo, I will answer your questions about chatbots. If you want to exit, type Bye')\n",
        "mytext = 'BOT: My name is Robo, I will answer your questions about chatbots. If you want to exit, type Bye'\n",
        "myobj = gTTS(text=mytext, slow=False)\n",
        "  \n",
        "# Saving the converted audio in a mp3 file named\n",
        "# welcome \n",
        "myobj.save(\"welcome.mp3\")\n",
        "  \n",
        "# Playing the converted file\n",
        "os.system(\" welcome.mp3\")\n",
        "\n",
        "while (flag==True):\n",
        "    user_response =input()\n",
        "    user_response = user_response.lower()\n",
        "    if (user_response != 'bye'):\n",
        "        if (user_response == 'thanks' or user_response == 'thank you'):\n",
        "            flag = False\n",
        "            print('ROBO: You are welcome...')\n",
        "\n",
        "        else:\n",
        "            if (greeting(user_response) != None):\n",
        "                print('ROBO: {}'.format(greeting(user_response)))\n",
        "            else:\n",
        "             \n",
        "               robo_response = ''\n",
        "               sentence_tokens.append(user_response)\n",
        "    \n",
        "               vectorizer = TfidfVectorizer(tokenizer=lem_normalize, stop_words='english')\n",
        "               tfidf = vectorizer.fit_transform(sentence_tokens)\n",
        "    \n",
        "               values = cosine_similarity(tfidf[-1], tfidf)\n",
        "               idx = values.argsort()[0][-2]\n",
        "               flat = values.flatten()\n",
        "               flat.sort()\n",
        "               req_tfidf = flat[-2]\n",
        "    \n",
        "               if req_tfidf == 0:\n",
        "                 robo_response = '{} Sorry, I don\\'t understand you'.format(robo_response)\n",
        "               else:\n",
        "                 robo_response = robo_response + sentence_tokens[idx]\n",
        "               print(robo_response) \n",
        "               mytext=robo_response; \n",
        "               mytext = re.sub(r'http\\S+', '', mytext)\n",
        "\n",
        "               myobj = gTTS(text=mytext, slow=False)\n",
        "\n",
        "               myobj.save(\"welcome.mp3\")\n",
        "  \n",
        "\n",
        "               os.system(\" welcome.mp3\")\n",
        "         \n",
        "\n",
        "# Saving the converted audio in a mp3 file named\n",
        "# welcome \n",
        "                \n",
        "  \n",
        "# Playing the converted file\n",
        "    \n",
        "           # sentence_tokens.remove(user_response)\n",
        "    else:\n",
        "        flag = False\n",
        "        print('ROBO: bye!')"
      ]
    }
  ],
  "metadata": {
    "colab": {
      "provenance": []
    },
    "kernelspec": {
      "display_name": "Python 3",
      "name": "python3"
    },
    "language_info": {
      "codemirror_mode": {
        "name": "ipython",
        "version": 3
      },
      "file_extension": ".py",
      "mimetype": "text/x-python",
      "name": "python",
      "nbconvert_exporter": "python",
      "pygments_lexer": "ipython3",
      "version": "3.11.3"
    }
  },
  "nbformat": 4,
  "nbformat_minor": 0
}
